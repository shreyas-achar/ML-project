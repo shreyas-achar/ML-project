{
 "cells": [
  {
   "cell_type": "code",
   "execution_count": 1,
   "id": "6c2ab556",
   "metadata": {},
   "outputs": [],
   "source": [
    "import numpy as np\n",
    "import pandas as pd\n",
    "import matplotlib.pyplot as plt\n",
    "import seaborn as sns\n",
    "from sklearn.model_selection import train_test_split\n",
    "from sklearn.linear_model import LinearRegression\n",
    "from sklearn import metrics\n",
    "import warnings\n",
    "warnings.filterwarnings('ignore')"
   ]
  },
  {
   "cell_type": "code",
   "execution_count": 2,
   "id": "e4fd16bf",
   "metadata": {},
   "outputs": [],
   "source": [
    "df = pd.read_csv(\"insurance.csv\")"
   ]
  },
  {
   "cell_type": "code",
   "execution_count": 47,
   "id": "ee1b63b4",
   "metadata": {},
   "outputs": [
    {
     "data": {
      "text/html": [
       "<div>\n",
       "<style scoped>\n",
       "    .dataframe tbody tr th:only-of-type {\n",
       "        vertical-align: middle;\n",
       "    }\n",
       "\n",
       "    .dataframe tbody tr th {\n",
       "        vertical-align: top;\n",
       "    }\n",
       "\n",
       "    .dataframe thead th {\n",
       "        text-align: right;\n",
       "    }\n",
       "</style>\n",
       "<table border=\"1\" class=\"dataframe\">\n",
       "  <thead>\n",
       "    <tr style=\"text-align: right;\">\n",
       "      <th></th>\n",
       "      <th>age</th>\n",
       "      <th>sex</th>\n",
       "      <th>bmi</th>\n",
       "      <th>children</th>\n",
       "      <th>smoker</th>\n",
       "      <th>region</th>\n",
       "      <th>charges</th>\n",
       "    </tr>\n",
       "  </thead>\n",
       "  <tbody>\n",
       "    <tr>\n",
       "      <th>0</th>\n",
       "      <td>19</td>\n",
       "      <td>female</td>\n",
       "      <td>27.900</td>\n",
       "      <td>0</td>\n",
       "      <td>yes</td>\n",
       "      <td>southwest</td>\n",
       "      <td>16884.92400</td>\n",
       "    </tr>\n",
       "    <tr>\n",
       "      <th>1</th>\n",
       "      <td>18</td>\n",
       "      <td>male</td>\n",
       "      <td>33.770</td>\n",
       "      <td>1</td>\n",
       "      <td>no</td>\n",
       "      <td>southeast</td>\n",
       "      <td>1725.55230</td>\n",
       "    </tr>\n",
       "    <tr>\n",
       "      <th>2</th>\n",
       "      <td>28</td>\n",
       "      <td>male</td>\n",
       "      <td>33.000</td>\n",
       "      <td>3</td>\n",
       "      <td>no</td>\n",
       "      <td>southeast</td>\n",
       "      <td>4449.46200</td>\n",
       "    </tr>\n",
       "    <tr>\n",
       "      <th>3</th>\n",
       "      <td>33</td>\n",
       "      <td>male</td>\n",
       "      <td>22.705</td>\n",
       "      <td>0</td>\n",
       "      <td>no</td>\n",
       "      <td>northwest</td>\n",
       "      <td>21984.47061</td>\n",
       "    </tr>\n",
       "    <tr>\n",
       "      <th>4</th>\n",
       "      <td>32</td>\n",
       "      <td>male</td>\n",
       "      <td>28.880</td>\n",
       "      <td>0</td>\n",
       "      <td>no</td>\n",
       "      <td>northwest</td>\n",
       "      <td>3866.85520</td>\n",
       "    </tr>\n",
       "  </tbody>\n",
       "</table>\n",
       "</div>"
      ],
      "text/plain": [
       "   age     sex     bmi  children smoker     region      charges\n",
       "0   19  female  27.900         0    yes  southwest  16884.92400\n",
       "1   18    male  33.770         1     no  southeast   1725.55230\n",
       "2   28    male  33.000         3     no  southeast   4449.46200\n",
       "3   33    male  22.705         0     no  northwest  21984.47061\n",
       "4   32    male  28.880         0     no  northwest   3866.85520"
      ]
     },
     "execution_count": 47,
     "metadata": {},
     "output_type": "execute_result"
    }
   ],
   "source": [
    "df.head()"
   ]
  },
  {
   "cell_type": "code",
   "execution_count": 48,
   "id": "bd226d78",
   "metadata": {},
   "outputs": [
    {
     "data": {
      "text/plain": [
       "(1338, 7)"
      ]
     },
     "execution_count": 48,
     "metadata": {},
     "output_type": "execute_result"
    }
   ],
   "source": [
    "df.shape"
   ]
  },
  {
   "cell_type": "code",
   "execution_count": 49,
   "id": "01327425",
   "metadata": {},
   "outputs": [
    {
     "data": {
      "text/html": [
       "<div>\n",
       "<style scoped>\n",
       "    .dataframe tbody tr th:only-of-type {\n",
       "        vertical-align: middle;\n",
       "    }\n",
       "\n",
       "    .dataframe tbody tr th {\n",
       "        vertical-align: top;\n",
       "    }\n",
       "\n",
       "    .dataframe thead th {\n",
       "        text-align: right;\n",
       "    }\n",
       "</style>\n",
       "<table border=\"1\" class=\"dataframe\">\n",
       "  <thead>\n",
       "    <tr style=\"text-align: right;\">\n",
       "      <th></th>\n",
       "      <th>age</th>\n",
       "      <th>bmi</th>\n",
       "      <th>children</th>\n",
       "      <th>charges</th>\n",
       "    </tr>\n",
       "  </thead>\n",
       "  <tbody>\n",
       "    <tr>\n",
       "      <th>count</th>\n",
       "      <td>1338.000000</td>\n",
       "      <td>1338.000000</td>\n",
       "      <td>1338.000000</td>\n",
       "      <td>1338.000000</td>\n",
       "    </tr>\n",
       "    <tr>\n",
       "      <th>mean</th>\n",
       "      <td>39.207025</td>\n",
       "      <td>30.663397</td>\n",
       "      <td>1.094918</td>\n",
       "      <td>13270.422265</td>\n",
       "    </tr>\n",
       "    <tr>\n",
       "      <th>std</th>\n",
       "      <td>14.049960</td>\n",
       "      <td>6.098187</td>\n",
       "      <td>1.205493</td>\n",
       "      <td>12110.011237</td>\n",
       "    </tr>\n",
       "    <tr>\n",
       "      <th>min</th>\n",
       "      <td>18.000000</td>\n",
       "      <td>15.960000</td>\n",
       "      <td>0.000000</td>\n",
       "      <td>1121.873900</td>\n",
       "    </tr>\n",
       "    <tr>\n",
       "      <th>25%</th>\n",
       "      <td>27.000000</td>\n",
       "      <td>26.296250</td>\n",
       "      <td>0.000000</td>\n",
       "      <td>4740.287150</td>\n",
       "    </tr>\n",
       "    <tr>\n",
       "      <th>50%</th>\n",
       "      <td>39.000000</td>\n",
       "      <td>30.400000</td>\n",
       "      <td>1.000000</td>\n",
       "      <td>9382.033000</td>\n",
       "    </tr>\n",
       "    <tr>\n",
       "      <th>75%</th>\n",
       "      <td>51.000000</td>\n",
       "      <td>34.693750</td>\n",
       "      <td>2.000000</td>\n",
       "      <td>16639.912515</td>\n",
       "    </tr>\n",
       "    <tr>\n",
       "      <th>max</th>\n",
       "      <td>64.000000</td>\n",
       "      <td>53.130000</td>\n",
       "      <td>5.000000</td>\n",
       "      <td>63770.428010</td>\n",
       "    </tr>\n",
       "  </tbody>\n",
       "</table>\n",
       "</div>"
      ],
      "text/plain": [
       "               age          bmi     children       charges\n",
       "count  1338.000000  1338.000000  1338.000000   1338.000000\n",
       "mean     39.207025    30.663397     1.094918  13270.422265\n",
       "std      14.049960     6.098187     1.205493  12110.011237\n",
       "min      18.000000    15.960000     0.000000   1121.873900\n",
       "25%      27.000000    26.296250     0.000000   4740.287150\n",
       "50%      39.000000    30.400000     1.000000   9382.033000\n",
       "75%      51.000000    34.693750     2.000000  16639.912515\n",
       "max      64.000000    53.130000     5.000000  63770.428010"
      ]
     },
     "execution_count": 49,
     "metadata": {},
     "output_type": "execute_result"
    }
   ],
   "source": [
    "df.describe()"
   ]
  },
  {
   "cell_type": "code",
   "execution_count": 50,
   "id": "586af8a5",
   "metadata": {},
   "outputs": [
    {
     "name": "stdout",
     "output_type": "stream",
     "text": [
      "<class 'pandas.core.frame.DataFrame'>\n",
      "RangeIndex: 1338 entries, 0 to 1337\n",
      "Data columns (total 7 columns):\n",
      " #   Column    Non-Null Count  Dtype  \n",
      "---  ------    --------------  -----  \n",
      " 0   age       1338 non-null   int64  \n",
      " 1   sex       1338 non-null   object \n",
      " 2   bmi       1338 non-null   float64\n",
      " 3   children  1338 non-null   int64  \n",
      " 4   smoker    1338 non-null   object \n",
      " 5   region    1338 non-null   object \n",
      " 6   charges   1338 non-null   float64\n",
      "dtypes: float64(2), int64(2), object(3)\n",
      "memory usage: 73.3+ KB\n"
     ]
    }
   ],
   "source": [
    "df.info()\n",
    "#non null rows and type"
   ]
  },
  {
   "cell_type": "code",
   "execution_count": 51,
   "id": "16050d9b",
   "metadata": {},
   "outputs": [
    {
     "data": {
      "text/plain": [
       "<seaborn.axisgrid.PairGrid at 0x21b822d8160>"
      ]
     },
     "execution_count": 51,
     "metadata": {},
     "output_type": "execute_result"
    },
    {
     "data": {
      "image/png": "[encoded data removed]",
      "text/plain": [
       "<Figure size 720x720 with 20 Axes>"
      ]
     },
     "metadata": {
      "needs_background": "light"
     },
     "output_type": "display_data"
    }
   ],
   "source": [
    "sns.pairplot(df)"
   ]
  },
  {
   "cell_type": "code",
   "execution_count": 52,
   "id": "af51bf5e",
   "metadata": {},
   "outputs": [
    {
     "data": {
      "image/png": "[encoded data removed]",
      "text/plain": [
       "<Figure size 432x432 with 1 Axes>"
      ]
     },
     "metadata": {
      "needs_background": "light"
     },
     "output_type": "display_data"
    }
   ],
   "source": [
    "#gender column\n",
    "plt.figure(figsize=(6,6))\n",
    "sns.countplot(x='sex', data=df)\n",
    "plt.title('Gender Distribution')\n",
    "plt.show()\n",
    "#shows that there are almost equal number of males and females"
   ]
  },
  {
   "cell_type": "code",
   "execution_count": 53,
   "id": "6f14699e",
   "metadata": {},
   "outputs": [
    {
     "data": {
      "image/png": "[encoded data removed]",
      "text/plain": [
       "<Figure size 360x360 with 1 Axes>"
      ]
     },
     "metadata": {
      "needs_background": "light"
     },
     "output_type": "display_data"
    }
   ],
   "source": [
    "#region column\n",
    "plt.figure(figsize=(5,5))\n",
    "sns.countplot(x='region', data=df)\n",
    "plt.title('Region')\n",
    "plt.show()"
   ]
  },
  {
   "cell_type": "code",
   "execution_count": 54,
   "id": "e1e6ce4c",
   "metadata": {},
   "outputs": [
    {
     "data": {
      "image/png": "[encoded data removed]",
      "text/plain": [
       "<Figure size 504x504 with 1 Axes>"
      ]
     },
     "metadata": {
      "needs_background": "light"
     },
     "output_type": "display_data"
    }
   ],
   "source": [
    "# children column\n",
    "plt.figure(figsize=(7,7))\n",
    "sns.countplot(x='children', data=df)\n",
    "plt.title('Children')\n",
    "plt.show()"
   ]
  },
  {
   "cell_type": "code",
   "execution_count": 55,
   "id": "dfaf74d5",
   "metadata": {},
   "outputs": [
    {
     "data": {
      "image/png": "[encoded data removed]",
      "text/plain": [
       "<Figure size 432x432 with 1 Axes>"
      ]
     },
     "metadata": {
      "needs_background": "light"
     },
     "output_type": "display_data"
    }
   ],
   "source": [
    "# smoker column\n",
    "plt.figure(figsize=(6,6))\n",
    "sns.countplot(x='smoker', data=df)\n",
    "plt.title('smoker')\n",
    "plt.show()"
   ]
  },
  {
   "cell_type": "code",
   "execution_count": 56,
   "id": "deb15eb9",
   "metadata": {},
   "outputs": [
    {
     "data": {
      "image/png": "[encoded data removed]",
      "text/plain": [
       "<Figure size 432x432 with 1 Axes>"
      ]
     },
     "metadata": {
      "needs_background": "light"
     },
     "output_type": "display_data"
    }
   ],
   "source": [
    "# distribution of age value\n",
    "plt.figure(figsize=(6,6))\n",
    "sns.distplot(df['age'])\n",
    "plt.title('Age Distribution')\n",
    "plt.show()"
   ]
  },
  {
   "cell_type": "code",
   "execution_count": 57,
   "id": "480f9dcc",
   "metadata": {},
   "outputs": [
    {
     "data": {
      "image/png": "[encoded data removed]",
      "text/plain": [
       "<Figure size 432x432 with 1 Axes>"
      ]
     },
     "metadata": {
      "needs_background": "light"
     },
     "output_type": "display_data"
    }
   ],
   "source": [
    "# bmi distribution\n",
    "plt.figure(figsize=(6,6))\n",
    "sns.distplot(df['bmi'])\n",
    "plt.title('BMI Distribution')\n",
    "plt.show()"
   ]
  },
  {
   "cell_type": "code",
   "execution_count": 58,
   "id": "d56dc762",
   "metadata": {},
   "outputs": [
    {
     "data": {
      "image/png": "[encoded data removed]",
      "text/plain": [
       "<Figure size 432x432 with 1 Axes>"
      ]
     },
     "metadata": {
      "needs_background": "light"
     },
     "output_type": "display_data"
    }
   ],
   "source": [
    "# distribution of charges value\n",
    "plt.figure(figsize=(6,6))\n",
    "sns.distplot(df['charges'])\n",
    "plt.title('Charges Distribution')\n",
    "plt.show()"
   ]
  },
  {
   "cell_type": "code",
   "execution_count": 59,
   "id": "112b2080",
   "metadata": {},
   "outputs": [
    {
     "data": {
      "text/plain": [
       "Text(0.5, 1.0, 'Charges for smokers')"
      ]
     },
     "execution_count": 59,
     "metadata": {},
     "output_type": "execute_result"
    },
    {
     "data": {
      "image/png": "[encoded data removed]",
      "text/plain": [
       "<Figure size 360x360 with 1 Axes>"
      ]
     },
     "metadata": {
      "needs_background": "light"
     },
     "output_type": "display_data"
    }
   ],
   "source": [
    "#charges vs sex,smoker\n",
    "plt.figure(figsize=(5,5))\n",
    "sns.barplot(x='sex', y='charges',hue='smoker', data=df)\n",
    "plt.title('Charges for smokers')"
   ]
  },
  {
   "cell_type": "code",
   "execution_count": 60,
   "id": "f085ee0b",
   "metadata": {},
   "outputs": [
    {
     "data": {
      "text/plain": [
       "<AxesSubplot:>"
      ]
     },
     "execution_count": 60,
     "metadata": {},
     "output_type": "execute_result"
    },
    {
     "data": {
      "image/png": "[encoded data removed]",
      "text/plain": [
       "<Figure size 720x504 with 2 Axes>"
      ]
     },
     "metadata": {
      "needs_background": "light"
     },
     "output_type": "display_data"
    }
   ],
   "source": [
    "plt.figure(figsize=(10,7))\n",
    "sns.heatmap(df.corr(), cmap=\"Blues\", annot=True)"
   ]
  },
  {
   "cell_type": "code",
   "execution_count": 61,
   "id": "d8d13ee4",
   "metadata": {},
   "outputs": [],
   "source": [
    "#encoding sex column\n",
    "df.replace({'sex':{'male':0,'female':1}},inplace=True)\n",
    "# encoding smoker column\n",
    "df.replace({'smoker':{'yes':0,'no':1}}, inplace=True)\n",
    "# encoding region column\n",
    "df.replace({'region':{'southeast':0,'southwest':1,'northeast':2,'northwest':3}}, inplace=True)"
   ]
  },
  {
   "cell_type": "code",
   "execution_count": 62,
   "id": "96b7ab5d",
   "metadata": {},
   "outputs": [
    {
     "data": {
      "text/html": [
       "<div>\n",
       "<style scoped>\n",
       "    .dataframe tbody tr th:only-of-type {\n",
       "        vertical-align: middle;\n",
       "    }\n",
       "\n",
       "    .dataframe tbody tr th {\n",
       "        vertical-align: top;\n",
       "    }\n",
       "\n",
       "    .dataframe thead th {\n",
       "        text-align: right;\n",
       "    }\n",
       "</style>\n",
       "<table border=\"1\" class=\"dataframe\">\n",
       "  <thead>\n",
       "    <tr style=\"text-align: right;\">\n",
       "      <th></th>\n",
       "      <th>age</th>\n",
       "      <th>sex</th>\n",
       "      <th>bmi</th>\n",
       "      <th>children</th>\n",
       "      <th>smoker</th>\n",
       "      <th>region</th>\n",
       "      <th>charges</th>\n",
       "    </tr>\n",
       "  </thead>\n",
       "  <tbody>\n",
       "    <tr>\n",
       "      <th>0</th>\n",
       "      <td>19</td>\n",
       "      <td>1</td>\n",
       "      <td>27.900</td>\n",
       "      <td>0</td>\n",
       "      <td>0</td>\n",
       "      <td>1</td>\n",
       "      <td>16884.92400</td>\n",
       "    </tr>\n",
       "    <tr>\n",
       "      <th>1</th>\n",
       "      <td>18</td>\n",
       "      <td>0</td>\n",
       "      <td>33.770</td>\n",
       "      <td>1</td>\n",
       "      <td>1</td>\n",
       "      <td>0</td>\n",
       "      <td>1725.55230</td>\n",
       "    </tr>\n",
       "    <tr>\n",
       "      <th>2</th>\n",
       "      <td>28</td>\n",
       "      <td>0</td>\n",
       "      <td>33.000</td>\n",
       "      <td>3</td>\n",
       "      <td>1</td>\n",
       "      <td>0</td>\n",
       "      <td>4449.46200</td>\n",
       "    </tr>\n",
       "    <tr>\n",
       "      <th>3</th>\n",
       "      <td>33</td>\n",
       "      <td>0</td>\n",
       "      <td>22.705</td>\n",
       "      <td>0</td>\n",
       "      <td>1</td>\n",
       "      <td>3</td>\n",
       "      <td>21984.47061</td>\n",
       "    </tr>\n",
       "    <tr>\n",
       "      <th>4</th>\n",
       "      <td>32</td>\n",
       "      <td>0</td>\n",
       "      <td>28.880</td>\n",
       "      <td>0</td>\n",
       "      <td>1</td>\n",
       "      <td>3</td>\n",
       "      <td>3866.85520</td>\n",
       "    </tr>\n",
       "    <tr>\n",
       "      <th>...</th>\n",
       "      <td>...</td>\n",
       "      <td>...</td>\n",
       "      <td>...</td>\n",
       "      <td>...</td>\n",
       "      <td>...</td>\n",
       "      <td>...</td>\n",
       "      <td>...</td>\n",
       "    </tr>\n",
       "    <tr>\n",
       "      <th>1333</th>\n",
       "      <td>50</td>\n",
       "      <td>0</td>\n",
       "      <td>30.970</td>\n",
       "      <td>3</td>\n",
       "      <td>1</td>\n",
       "      <td>3</td>\n",
       "      <td>10600.54830</td>\n",
       "    </tr>\n",
       "    <tr>\n",
       "      <th>1334</th>\n",
       "      <td>18</td>\n",
       "      <td>1</td>\n",
       "      <td>31.920</td>\n",
       "      <td>0</td>\n",
       "      <td>1</td>\n",
       "      <td>2</td>\n",
       "      <td>2205.98080</td>\n",
       "    </tr>\n",
       "    <tr>\n",
       "      <th>1335</th>\n",
       "      <td>18</td>\n",
       "      <td>1</td>\n",
       "      <td>36.850</td>\n",
       "      <td>0</td>\n",
       "      <td>1</td>\n",
       "      <td>0</td>\n",
       "      <td>1629.83350</td>\n",
       "    </tr>\n",
       "    <tr>\n",
       "      <th>1336</th>\n",
       "      <td>21</td>\n",
       "      <td>1</td>\n",
       "      <td>25.800</td>\n",
       "      <td>0</td>\n",
       "      <td>1</td>\n",
       "      <td>1</td>\n",
       "      <td>2007.94500</td>\n",
       "    </tr>\n",
       "    <tr>\n",
       "      <th>1337</th>\n",
       "      <td>61</td>\n",
       "      <td>1</td>\n",
       "      <td>29.070</td>\n",
       "      <td>0</td>\n",
       "      <td>0</td>\n",
       "      <td>3</td>\n",
       "      <td>29141.36030</td>\n",
       "    </tr>\n",
       "  </tbody>\n",
       "</table>\n",
       "<p>1338 rows × 7 columns</p>\n",
       "</div>"
      ],
      "text/plain": [
       "      age  sex     bmi  children  smoker  region      charges\n",
       "0      19    1  27.900         0       0       1  16884.92400\n",
       "1      18    0  33.770         1       1       0   1725.55230\n",
       "2      28    0  33.000         3       1       0   4449.46200\n",
       "3      33    0  22.705         0       1       3  21984.47061\n",
       "4      32    0  28.880         0       1       3   3866.85520\n",
       "...   ...  ...     ...       ...     ...     ...          ...\n",
       "1333   50    0  30.970         3       1       3  10600.54830\n",
       "1334   18    1  31.920         0       1       2   2205.98080\n",
       "1335   18    1  36.850         0       1       0   1629.83350\n",
       "1336   21    1  25.800         0       1       1   2007.94500\n",
       "1337   61    1  29.070         0       0       3  29141.36030\n",
       "\n",
       "[1338 rows x 7 columns]"
      ]
     },
     "execution_count": 62,
     "metadata": {},
     "output_type": "execute_result"
    }
   ],
   "source": [
    "df"
   ]
  },
  {
   "cell_type": "code",
   "execution_count": 63,
   "id": "4be106c6",
   "metadata": {},
   "outputs": [
    {
     "data": {
      "text/plain": [
       "Index(['age', 'sex', 'bmi', 'children', 'smoker', 'region', 'charges'], dtype='object')"
      ]
     },
     "execution_count": 63,
     "metadata": {},
     "output_type": "execute_result"
    }
   ],
   "source": [
    "df.columns"
   ]
  },
  {
   "cell_type": "code",
   "execution_count": 64,
   "id": "cad750bb",
   "metadata": {},
   "outputs": [],
   "source": [
    "#creating two dataframes x and y\n",
    "X=df[['age', 'sex', 'bmi', 'children', 'smoker', 'region']]\n",
    "y=df['charges']"
   ]
  },
  {
   "cell_type": "code",
   "execution_count": 65,
   "id": "b958db78",
   "metadata": {},
   "outputs": [
    {
     "data": {
      "text/html": [
       "<div>\n",
       "<style scoped>\n",
       "    .dataframe tbody tr th:only-of-type {\n",
       "        vertical-align: middle;\n",
       "    }\n",
       "\n",
       "    .dataframe tbody tr th {\n",
       "        vertical-align: top;\n",
       "    }\n",
       "\n",
       "    .dataframe thead th {\n",
       "        text-align: right;\n",
       "    }\n",
       "</style>\n",
       "<table border=\"1\" class=\"dataframe\">\n",
       "  <thead>\n",
       "    <tr style=\"text-align: right;\">\n",
       "      <th></th>\n",
       "      <th>age</th>\n",
       "      <th>sex</th>\n",
       "      <th>bmi</th>\n",
       "      <th>children</th>\n",
       "      <th>smoker</th>\n",
       "      <th>region</th>\n",
       "    </tr>\n",
       "  </thead>\n",
       "  <tbody>\n",
       "    <tr>\n",
       "      <th>0</th>\n",
       "      <td>19</td>\n",
       "      <td>1</td>\n",
       "      <td>27.900</td>\n",
       "      <td>0</td>\n",
       "      <td>0</td>\n",
       "      <td>1</td>\n",
       "    </tr>\n",
       "    <tr>\n",
       "      <th>1</th>\n",
       "      <td>18</td>\n",
       "      <td>0</td>\n",
       "      <td>33.770</td>\n",
       "      <td>1</td>\n",
       "      <td>1</td>\n",
       "      <td>0</td>\n",
       "    </tr>\n",
       "    <tr>\n",
       "      <th>2</th>\n",
       "      <td>28</td>\n",
       "      <td>0</td>\n",
       "      <td>33.000</td>\n",
       "      <td>3</td>\n",
       "      <td>1</td>\n",
       "      <td>0</td>\n",
       "    </tr>\n",
       "    <tr>\n",
       "      <th>3</th>\n",
       "      <td>33</td>\n",
       "      <td>0</td>\n",
       "      <td>22.705</td>\n",
       "      <td>0</td>\n",
       "      <td>1</td>\n",
       "      <td>3</td>\n",
       "    </tr>\n",
       "    <tr>\n",
       "      <th>4</th>\n",
       "      <td>32</td>\n",
       "      <td>0</td>\n",
       "      <td>28.880</td>\n",
       "      <td>0</td>\n",
       "      <td>1</td>\n",
       "      <td>3</td>\n",
       "    </tr>\n",
       "    <tr>\n",
       "      <th>...</th>\n",
       "      <td>...</td>\n",
       "      <td>...</td>\n",
       "      <td>...</td>\n",
       "      <td>...</td>\n",
       "      <td>...</td>\n",
       "      <td>...</td>\n",
       "    </tr>\n",
       "    <tr>\n",
       "      <th>1333</th>\n",
       "      <td>50</td>\n",
       "      <td>0</td>\n",
       "      <td>30.970</td>\n",
       "      <td>3</td>\n",
       "      <td>1</td>\n",
       "      <td>3</td>\n",
       "    </tr>\n",
       "    <tr>\n",
       "      <th>1334</th>\n",
       "      <td>18</td>\n",
       "      <td>1</td>\n",
       "      <td>31.920</td>\n",
       "      <td>0</td>\n",
       "      <td>1</td>\n",
       "      <td>2</td>\n",
       "    </tr>\n",
       "    <tr>\n",
       "      <th>1335</th>\n",
       "      <td>18</td>\n",
       "      <td>1</td>\n",
       "      <td>36.850</td>\n",
       "      <td>0</td>\n",
       "      <td>1</td>\n",
       "      <td>0</td>\n",
       "    </tr>\n",
       "    <tr>\n",
       "      <th>1336</th>\n",
       "      <td>21</td>\n",
       "      <td>1</td>\n",
       "      <td>25.800</td>\n",
       "      <td>0</td>\n",
       "      <td>1</td>\n",
       "      <td>1</td>\n",
       "    </tr>\n",
       "    <tr>\n",
       "      <th>1337</th>\n",
       "      <td>61</td>\n",
       "      <td>1</td>\n",
       "      <td>29.070</td>\n",
       "      <td>0</td>\n",
       "      <td>0</td>\n",
       "      <td>3</td>\n",
       "    </tr>\n",
       "  </tbody>\n",
       "</table>\n",
       "<p>1338 rows × 6 columns</p>\n",
       "</div>"
      ],
      "text/plain": [
       "      age  sex     bmi  children  smoker  region\n",
       "0      19    1  27.900         0       0       1\n",
       "1      18    0  33.770         1       1       0\n",
       "2      28    0  33.000         3       1       0\n",
       "3      33    0  22.705         0       1       3\n",
       "4      32    0  28.880         0       1       3\n",
       "...   ...  ...     ...       ...     ...     ...\n",
       "1333   50    0  30.970         3       1       3\n",
       "1334   18    1  31.920         0       1       2\n",
       "1335   18    1  36.850         0       1       0\n",
       "1336   21    1  25.800         0       1       1\n",
       "1337   61    1  29.070         0       0       3\n",
       "\n",
       "[1338 rows x 6 columns]"
      ]
     },
     "execution_count": 65,
     "metadata": {},
     "output_type": "execute_result"
    }
   ],
   "source": [
    "X"
   ]
  },
  {
   "cell_type": "code",
   "execution_count": 66,
   "id": "4d4c78fe",
   "metadata": {},
   "outputs": [
    {
     "data": {
      "text/plain": [
       "0       16884.92400\n",
       "1        1725.55230\n",
       "2        4449.46200\n",
       "3       21984.47061\n",
       "4        3866.85520\n",
       "           ...     \n",
       "1333    10600.54830\n",
       "1334     2205.98080\n",
       "1335     1629.83350\n",
       "1336     2007.94500\n",
       "1337    29141.36030\n",
       "Name: charges, Length: 1338, dtype: float64"
      ]
     },
     "execution_count": 66,
     "metadata": {},
     "output_type": "execute_result"
    }
   ],
   "source": [
    "y"
   ]
  },
  {
   "cell_type": "code",
   "execution_count": 67,
   "id": "0f2d3619",
   "metadata": {},
   "outputs": [
    {
     "name": "stdout",
     "output_type": "stream",
     "text": [
      "(1070, 6) (268, 6) (1070,) (268,)\n"
     ]
    }
   ],
   "source": [
    "X_train, X_test, y_train, y_test = train_test_split(X, y, test_size=0.2, random_state=2)\n",
    "print( X_train.shape, X_test.shape, y_train.shape, y_test.shape)"
   ]
  },
  {
   "cell_type": "code",
   "execution_count": 68,
   "id": "4fdc2d56",
   "metadata": {},
   "outputs": [],
   "source": [
    "lm = LinearRegression()"
   ]
  },
  {
   "cell_type": "code",
   "execution_count": 69,
   "id": "dc0b673a",
   "metadata": {},
   "outputs": [
    {
     "data": {
      "text/plain": [
       "LinearRegression()"
      ]
     },
     "execution_count": 69,
     "metadata": {},
     "output_type": "execute_result"
    }
   ],
   "source": [
    "lm.fit(X_train, y_train)"
   ]
  },
  {
   "cell_type": "code",
   "execution_count": 70,
   "id": "5fd6918f",
   "metadata": {},
   "outputs": [
    {
     "name": "stdout",
     "output_type": "stream",
     "text": [
      "[   251.40512196     26.11715966    330.64637157    580.27438296\n",
      " -23928.10171061    212.22242728]\n"
     ]
    }
   ],
   "source": [
    "print(lm.coef_)"
   ]
  },
  {
   "cell_type": "code",
   "execution_count": 71,
   "id": "5a5e51b0",
   "metadata": {},
   "outputs": [
    {
     "name": "stdout",
     "output_type": "stream",
     "text": [
      "11357.668742540935\n"
     ]
    }
   ],
   "source": [
    "print(lm.intercept_)"
   ]
  },
  {
   "cell_type": "code",
   "execution_count": 72,
   "id": "aafafc27",
   "metadata": {},
   "outputs": [
    {
     "data": {
      "text/html": [
       "<div>\n",
       "<style scoped>\n",
       "    .dataframe tbody tr th:only-of-type {\n",
       "        vertical-align: middle;\n",
       "    }\n",
       "\n",
       "    .dataframe tbody tr th {\n",
       "        vertical-align: top;\n",
       "    }\n",
       "\n",
       "    .dataframe thead th {\n",
       "        text-align: right;\n",
       "    }\n",
       "</style>\n",
       "<table border=\"1\" class=\"dataframe\">\n",
       "  <thead>\n",
       "    <tr style=\"text-align: right;\">\n",
       "      <th></th>\n",
       "      <th>coef</th>\n",
       "    </tr>\n",
       "  </thead>\n",
       "  <tbody>\n",
       "    <tr>\n",
       "      <th>age</th>\n",
       "      <td>251.405122</td>\n",
       "    </tr>\n",
       "    <tr>\n",
       "      <th>sex</th>\n",
       "      <td>26.117160</td>\n",
       "    </tr>\n",
       "    <tr>\n",
       "      <th>bmi</th>\n",
       "      <td>330.646372</td>\n",
       "    </tr>\n",
       "    <tr>\n",
       "      <th>children</th>\n",
       "      <td>580.274383</td>\n",
       "    </tr>\n",
       "    <tr>\n",
       "      <th>smoker</th>\n",
       "      <td>-23928.101711</td>\n",
       "    </tr>\n",
       "    <tr>\n",
       "      <th>region</th>\n",
       "      <td>212.222427</td>\n",
       "    </tr>\n",
       "  </tbody>\n",
       "</table>\n",
       "</div>"
      ],
      "text/plain": [
       "                  coef\n",
       "age         251.405122\n",
       "sex          26.117160\n",
       "bmi         330.646372\n",
       "children    580.274383\n",
       "smoker   -23928.101711\n",
       "region      212.222427"
      ]
     },
     "execution_count": 72,
     "metadata": {},
     "output_type": "execute_result"
    }
   ],
   "source": [
    "pd.DataFrame(lm.coef_,X.columns,columns=[\"coef\"])"
   ]
  },
  {
   "cell_type": "code",
   "execution_count": 73,
   "id": "2d28e602",
   "metadata": {},
   "outputs": [],
   "source": [
    "#creating predictions for x_test data to get predicted y_test values\n",
    "predictions=lm.predict(X_test)"
   ]
  },
  {
   "cell_type": "code",
   "execution_count": 74,
   "id": "775e71b4",
   "metadata": {},
   "outputs": [
    {
     "data": {
      "image/png": "[encoded data removed]",
      "text/plain": [
       "<Figure size 432x288 with 1 Axes>"
      ]
     },
     "metadata": {
      "needs_background": "light"
     },
     "output_type": "display_data"
    }
   ],
   "source": [
    "#compare y_test to predicted values using matplotlib\n",
    "plt.scatter(y_test,predictions)\n",
    "plt.xlabel('Y test')\n",
    "plt.ylabel('Y pred')\n",
    "plt.show()\n"
   ]
  },
  {
   "cell_type": "code",
   "execution_count": 75,
   "id": "e5a6bd40",
   "metadata": {},
   "outputs": [
    {
     "name": "stdout",
     "output_type": "stream",
     "text": [
      "R squared value :  0.7447273869684077\n"
     ]
    }
   ],
   "source": [
    "#finding r2 \n",
    "r2_test = metrics.r2_score(y_test,predictions)\n",
    "print('R squared value : ', r2_test)"
   ]
  },
  {
   "cell_type": "code",
   "execution_count": 76,
   "id": "10766dec",
   "metadata": {},
   "outputs": [
    {
     "name": "stdout",
     "output_type": "stream",
     "text": [
      "MAE: 4267.213826730733\n",
      "MSE: 38337035.48643883\n",
      "RMSE: 6191.690842285234\n"
     ]
    }
   ],
   "source": [
    "from sklearn import metrics\n",
    "from math import sqrt\n",
    "print('MAE:',metrics.mean_absolute_error(y_test,predictions))\n",
    "print('MSE:',metrics.mean_squared_error(y_test,predictions))\n",
    "print('RMSE:',np.sqrt(metrics.mean_squared_error(y_test, predictions)))"
   ]
  },
  {
   "cell_type": "code",
   "execution_count": 77,
   "id": "d491fa1f",
   "metadata": {},
   "outputs": [
    {
     "data": {
      "text/plain": [
       "<AxesSubplot:xlabel='charges', ylabel='Density'>"
      ]
     },
     "execution_count": 77,
     "metadata": {},
     "output_type": "execute_result"
    },
    {
     "data": {
      "image/png": "[encoded data removed]",
      "text/plain": [
       "<Figure size 432x288 with 1 Axes>"
      ]
     },
     "metadata": {
      "needs_background": "light"
     },
     "output_type": "display_data"
    }
   ],
   "source": [
    "sns.distplot((y_test-predictions), bins = 50)"
   ]
  },
  {
   "cell_type": "code",
   "execution_count": 78,
   "id": "c3ae0bed",
   "metadata": {},
   "outputs": [
    {
     "data": {
      "text/html": [
       "<div>\n",
       "<style scoped>\n",
       "    .dataframe tbody tr th:only-of-type {\n",
       "        vertical-align: middle;\n",
       "    }\n",
       "\n",
       "    .dataframe tbody tr th {\n",
       "        vertical-align: top;\n",
       "    }\n",
       "\n",
       "    .dataframe thead th {\n",
       "        text-align: right;\n",
       "    }\n",
       "</style>\n",
       "<table border=\"1\" class=\"dataframe\">\n",
       "  <thead>\n",
       "    <tr style=\"text-align: right;\">\n",
       "      <th></th>\n",
       "      <th>age</th>\n",
       "      <th>sex</th>\n",
       "      <th>bmi</th>\n",
       "      <th>children</th>\n",
       "      <th>smoker</th>\n",
       "      <th>region</th>\n",
       "    </tr>\n",
       "  </thead>\n",
       "  <tbody>\n",
       "    <tr>\n",
       "      <th>0</th>\n",
       "      <td>31</td>\n",
       "      <td>1</td>\n",
       "      <td>25.74</td>\n",
       "      <td>0</td>\n",
       "      <td>1</td>\n",
       "      <td>0</td>\n",
       "    </tr>\n",
       "  </tbody>\n",
       "</table>\n",
       "</div>"
      ],
      "text/plain": [
       "   age  sex    bmi  children  smoker  region\n",
       "0   31    1  25.74         0       1       0"
      ]
     },
     "execution_count": 78,
     "metadata": {},
     "output_type": "execute_result"
    }
   ],
   "source": [
    "#predicting the charges\n",
    "data = {'age':31, 'sex':1, 'bmi':25.74, 'children':0, 'smoker':1, 'region':0}\n",
    "cust_df = pd.DataFrame(data,[0])\n",
    "cust_df\n"
   ]
  },
  {
   "cell_type": "code",
   "execution_count": null,
   "id": "b40e5096",
   "metadata": {},
   "outputs": [],
   "source": []
  },
  {
   "cell_type": "code",
   "execution_count": 79,
   "id": "0cea9fe5",
   "metadata": {},
   "outputs": [
    {
     "name": "stdout",
     "output_type": "stream",
     "text": [
      "The medical insurance cost of the new customer is:  3760.080576496058\n"
     ]
    }
   ],
   "source": [
    "cost_pred = lm.predict(cust_df)\n",
    "print(\"The medical insurance cost of the new customer is: \", cost_pred[0])"
   ]
  },
  {
   "cell_type": "code",
   "execution_count": 80,
   "id": "288ff11d",
   "metadata": {
    "scrolled": false
   },
   "outputs": [
    {
     "name": "stdout",
     "output_type": "stream",
     "text": [
      "0.7907514220754801 0\n",
      "0.7398460691975803 1\n",
      "0.7661186068101189 2\n",
      "0.7318630535235593 3\n",
      "0.7152623490691622 4\n",
      "0.7563099329119516 5\n",
      "0.7712968118931958 6\n",
      "0.7522952495699669 7\n",
      "0.7590577437522752 8\n",
      "0.751697750859326 9\n",
      "0.7159887186891662 10\n",
      "0.7663442397702628 11\n",
      "0.6963527940045462 12\n",
      "0.7675762645291008 13\n",
      "0.7503260178999939 14\n",
      "0.7861000790628434 15\n",
      "0.7359470483980783 16\n",
      "0.7358582476099484 17\n",
      "0.7674746258945642 18\n",
      "0.7418849395479234 19\n",
      "0.7721389923279705 20\n",
      "0.7350942248945385 21\n",
      "0.7391646039683986 22\n",
      "0.7319111168219183 23\n",
      "0.766682269422279 24\n",
      "0.731281592347887 25\n",
      "0.7623217114326357 26\n",
      "0.7610802539025239 27\n",
      "0.7076421068830238 28\n",
      "0.7164787401869037 29\n",
      "0.7625465812979154 30\n",
      "0.7003219917690312 31\n",
      "0.7718364346323958 32\n",
      "0.7611039644678691 33\n",
      "0.7405969562237043 34\n",
      "0.732287927260882 35\n",
      "0.7337138724480929 36\n",
      "0.7576315569056996 37\n",
      "0.7025831616173855 38\n",
      "0.7578913297836625 39\n",
      "0.7165451496216209 40\n",
      "0.6929236920803473 41\n",
      "0.7694315077300078 42\n",
      "0.7502637039220009 43\n",
      "0.7706257911091132 44\n",
      "0.7102372572893162 45\n",
      "0.7357482625726409 46\n",
      "0.7610575507158756 47\n",
      "0.7378508630882057 48\n",
      "0.742356812353004 49\n",
      "0.78420255705281 50\n",
      "0.7544299994275594 51\n",
      "0.7220004868439174 52\n",
      "0.7535124671404938 53\n",
      "0.6594184867133581 54\n",
      "0.7350123428615882 55\n",
      "0.7088471756491963 56\n",
      "0.7264272656047869 57\n",
      "0.7270126850445489 58\n",
      "0.7891996380188898 59\n",
      "0.67400563893298 60\n",
      "0.7285855171681805 61\n",
      "0.7217335936438568 62\n",
      "0.7329887947957954 63\n",
      "0.748449951813523 64\n",
      "0.727116785935855 65\n",
      "0.7453462722187119 66\n",
      "0.7378436552972681 67\n",
      "0.7329298761835823 68\n",
      "0.7325328093716776 69\n",
      "0.7275726732535059 70\n",
      "0.7410475984065509 71\n",
      "0.7271463358722681 72\n",
      "0.6999334395310313 73\n",
      "0.7551106284517773 74\n",
      "0.7655489797174702 75\n",
      "0.7723421014608879 76\n",
      "0.7452941956408459 77\n",
      "0.7225133776930348 78\n",
      "0.7735856917509164 79\n",
      "0.7544446024759657 80\n",
      "0.7048716638013826 81\n",
      "0.7522467415974724 82\n",
      "0.7677533801608829 83\n",
      "0.7695642721234004 84\n",
      "0.6972964910037603 85\n",
      "0.7825456963964603 86\n",
      "0.7387459185181526 87\n",
      "0.7809339731151652 88\n",
      "0.7762040369427465 89\n",
      "0.7627084539347323 90\n",
      "0.7420072310101349 91\n",
      "0.7550472512295007 92\n",
      "0.7275362357140975 93\n",
      "0.76672997446957 94\n",
      "0.7643950891492741 95\n",
      "0.6702330547509626 96\n",
      "0.7403929372197606 97\n",
      "0.7579753888041465 98\n",
      "0.7197147850750202 99\n",
      "0.7814630889863545 100\n",
      "0.76066979856574 101\n",
      "0.7291303782409354 102\n",
      "0.7708271964566917 103\n",
      "0.7301811855475968 104\n",
      "0.7831358031610213 105\n",
      "0.7317710012765184 106\n",
      "0.7254208909383892 107\n",
      "0.7661317280975418 108\n",
      "0.7287843219166801 109\n",
      "0.7804994930427518 110\n",
      "0.7727698186702225 111\n",
      "0.8025955251974227 112\n",
      "0.7700745749108712 113\n",
      "0.7643918781196128 114\n",
      "0.7559425227444465 115\n",
      "0.7753318487768762 116\n",
      "0.7603688510811657 117\n",
      "0.7645170322213689 118\n",
      "0.7482891945598373 119\n",
      "0.7771317262532895 120\n",
      "0.7187188433852754 121\n",
      "0.7781947447461445 122\n",
      "0.7630922478901854 123\n",
      "0.7388496163274538 124\n",
      "0.7454371887404938 125\n",
      "0.7862773237849638 126\n",
      "0.7702941356888822 127\n",
      "0.7458849725480344 128\n",
      "0.7365251995890233 129\n",
      "0.7202673842932419 130\n",
      "0.7254187511129886 131\n",
      "0.7638352783997258 132\n",
      "0.7097740563472367 133\n",
      "0.7628229743675592 134\n",
      "0.6917239449570669 135\n",
      "0.7566267358841777 136\n",
      "0.7643557157256777 137\n",
      "0.7900305222306566 138\n",
      "0.761234315183423 139\n",
      "0.7514113185511799 140\n",
      "0.6699445480691066 141\n",
      "0.7624427431684314 142\n",
      "0.7643416414377735 143\n",
      "0.7768524117616884 144\n",
      "0.7628813153911449 145\n",
      "0.758302651521301 146\n",
      "0.7765262915657997 147\n",
      "0.7457292889606832 148\n",
      "0.769279842330439 149\n",
      "0.7391333679614494 150\n",
      "0.7533642047332003 151\n",
      "0.7539756962027974 152\n",
      "0.70986490995114 153\n",
      "0.7627261239403184 154\n",
      "0.7327546623056748 155\n",
      "0.7309515326810264 156\n",
      "0.7513260076941063 157\n",
      "0.7340797045938183 158\n",
      "0.7579149144756485 159\n",
      "0.7195750627875037 160\n",
      "0.7651978455921843 161\n",
      "0.7779029781770898 162\n",
      "0.7709023817351601 163\n",
      "0.7356489288148598 164\n",
      "0.7311740163951301 165\n",
      "0.7413529726204122 166\n",
      "0.7611070784608825 167\n",
      "0.7620095912034365 168\n",
      "0.7636722551901363 169\n",
      "0.7564398679967899 170\n",
      "0.7652329758437004 171\n",
      "0.7321425039854281 172\n",
      "0.7618091582413954 173\n",
      "0.7094924440610092 174\n",
      "0.7583637275945913 175\n",
      "0.7048096610929109 176\n",
      "0.7542510137044874 177\n",
      "0.7675616052256166 178\n",
      "0.7478461670214358 179\n",
      "0.6976352373534265 180\n",
      "0.7597180821705705 181\n",
      "0.7521472965484897 182\n",
      "0.736212747302593 183\n",
      "0.7811885821139787 184\n",
      "0.7609698733204601 185\n",
      "0.7180146950676298 186\n",
      "0.742543926951494 187\n",
      "0.731693576284813 188\n",
      "0.7619560487568763 189\n",
      "0.7411614172956498 190\n",
      "0.7396960913359254 191\n",
      "0.707063368169325 192\n",
      "0.7197766504930962 193\n",
      "0.7492123154231294 194\n",
      "0.7008794667401269 195\n",
      "0.7311099112736998 196\n",
      "0.7347883529042842 197\n",
      "0.7759169082121713 198\n",
      "0.7172032410483824 199\n",
      "0.7530956955699672 200\n",
      "0.7635918126332363 201\n",
      "0.7330792353245319 202\n",
      "0.7226424633641619 203\n",
      "0.7295706748020694 204\n",
      "0.7583137738436116 205\n",
      "0.7350810556817968 206\n",
      "0.7543574269829134 207\n",
      "0.727360969657763 208\n",
      "0.741573776874441 209\n",
      "0.7210033705894312 210\n",
      "0.7437815800404131 211\n",
      "0.7526032952259071 212\n",
      "0.7692627071663988 213\n",
      "0.7230072757674009 214\n",
      "0.793799179383325 215\n",
      "0.7672248265473474 216\n",
      "0.7892526711947827 217\n",
      "0.7491049141150998 218\n",
      "0.7289127280276305 219\n",
      "0.7218739048517249 220\n",
      "0.7501857354386139 221\n",
      "0.7669564885454843 222\n",
      "0.7462748757514437 223\n",
      "0.7704141844617427 224\n",
      "0.7162259905180945 225\n",
      "0.7548290596528757 226\n",
      "0.7622603598215211 227\n",
      "0.7900186977868682 228\n",
      "0.7466549190529451 229\n",
      "0.7069813308296604 230\n",
      "0.7534971181171437 231\n",
      "0.7407920324282815 232\n",
      "0.7619788831740493 233\n",
      "0.7234337447829816 234\n",
      "0.7253022791607971 235\n",
      "0.7715731455408434 236\n",
      "0.7301025029463032 237\n",
      "0.7563727696625904 238\n",
      "0.7402351833096672 239\n",
      "0.7359037363230225 240\n",
      "0.7598933260552593 241\n",
      "0.69942700457606 242\n",
      "0.7832700966987657 243\n",
      "0.7402313785248618 244\n",
      "0.7708624389573425 245\n",
      "0.7560719177800777 246\n",
      "0.7146191395715413 247\n",
      "0.7304775338690628 248\n",
      "0.7753927907869359 249\n",
      "0.775641437314703 250\n",
      "0.7613371208416561 251\n",
      "0.7476787809910389 252\n",
      "0.7234400135468791 253\n",
      "0.7786481127384366 254\n",
      "0.7073147338595702 255\n",
      "0.7100266911990443 256\n",
      "0.6994048567919352 257\n",
      "0.7628036848413152 258\n",
      "0.7742962004685148 259\n",
      "0.7367315486157813 260\n",
      "0.7198529745725298 261\n",
      "0.7358188458402087 262\n",
      "0.7964611240649955 263\n",
      "0.6971107419376094 264\n",
      "0.7467941664008311 265\n",
      "0.7617264644484816 266\n",
      "0.7907270931564029 267\n",
      "0.7505589056352902 268\n",
      "0.7489087804966452 269\n",
      "0.704775029083736 270\n",
      "0.7411526067077092 271\n",
      "0.7267417918706014 272\n",
      "0.7149296813624275 273\n",
      "0.7365334358188041 274\n",
      "0.6867457961117992 275\n",
      "0.7449997860213449 276\n",
      "0.7516072159779965 277\n",
      "0.7417156399902256 278\n",
      "0.6741388271132245 279\n",
      "0.750414073008417 280\n",
      "0.7437351989772814 281\n",
      "0.6862667985434954 282\n",
      "0.7005546845501036 283\n",
      "0.7492234152464718 284\n",
      "0.7412740306110159 285\n",
      "0.7763525575217848 286\n",
      "0.7521572210893523 287\n",
      "0.731256101003996 288\n",
      "0.7308336108302625 289\n",
      "0.7726663611744357 290\n",
      "0.7724098667172161 291\n",
      "0.7113108166652187 292\n",
      "0.730911536883323 293\n",
      "0.7466229437252483 294\n",
      "0.74067436968197 295\n",
      "0.7499715579341316 296\n",
      "0.7173255160495711 297\n",
      "0.7450497920959493 298\n",
      "0.7807588140887441 299\n",
      "0.7643855866685055 300\n",
      "0.743218273219995 301\n",
      "0.7766695696210619 302\n",
      "0.7441616098244354 303\n",
      "0.7107748021932039 304\n",
      "0.7110256807922217 305\n",
      "0.7994507892137708 306\n",
      "0.7356783556647986 307\n",
      "0.7600509881042907 308\n",
      "0.7467969927007976 309\n",
      "0.763833391526898 310\n",
      "0.6947368460314405 311\n",
      "0.7396695180605768 312\n",
      "0.7768478280117581 313\n",
      "0.7008569083353594 314\n",
      "0.762632758742634 315\n",
      "0.7401343030351348 316\n",
      "0.733382579653118 317\n",
      "0.7230149881006035 318\n",
      "0.6952307197726135 319\n",
      "0.7809950896486229 320\n",
      "0.7416507076601027 321\n",
      "0.7229955513855192 322\n",
      "0.7507034525992855 323\n",
      "0.7193704591283485 324\n",
      "0.7622733653248063 325\n",
      "0.7842913476419567 326\n",
      "0.7267969505849701 327\n",
      "0.7576151661161616 328\n",
      "0.7546037421419873 329\n",
      "0.7264382695703109 330\n",
      "0.7717987941351718 331\n",
      "0.7436284563470275 332\n",
      "0.768281752694373 333\n",
      "0.7380415701520362 334\n",
      "0.7440160110928243 335\n",
      "0.7588299150395619 336\n",
      "0.7417728839937057 337\n",
      "0.7929184216957946 338\n",
      "0.7616281461028717 339\n",
      "0.7493627452075322 340\n",
      "0.7945140607625072 341\n",
      "0.6818148519152989 342\n",
      "0.7610694031058284 343\n",
      "0.717222669065084 344\n",
      "0.7450918076730177 345\n",
      "0.7138643852448137 346\n",
      "0.7288441752367765 347\n",
      "0.7451936419838106 348\n",
      "0.70397433204972 349\n",
      "0.7461057586652897 350\n",
      "0.7594291803383142 351\n",
      "0.7337188892311735 352\n",
      "0.7617021038291226 353\n",
      "0.7562697467521321 354\n",
      "0.7214422848262685 355\n",
      "0.7689056933846881 356\n",
      "0.7552828465032233 357\n",
      "0.7819010003136448 358\n",
      "0.7501935385877436 359\n",
      "0.7678457078077517 360\n",
      "0.7620811860337928 361\n",
      "0.763597376654427 362\n",
      "0.7572947297186188 363\n",
      "0.7400145584244335 364\n",
      "0.739612318499183 365\n",
      "0.7597573544952205 366\n",
      "0.7984747573756548 367\n",
      "0.7877759634609631 368\n",
      "0.7108679419639983 369\n",
      "0.7436847414841528 370\n",
      "0.7433079522149428 371\n",
      "0.7454004550317044 372\n",
      "0.7546639888275102 373\n",
      "0.7411825785413686 374\n"
     ]
    },
    {
     "name": "stdout",
     "output_type": "stream",
     "text": [
      "0.759702112516115 375\n",
      "0.7939037098986779 376\n",
      "0.7548587393238441 377\n",
      "0.7747187076096543 378\n",
      "0.7333705636202922 379\n",
      "0.7433471809486984 380\n",
      "0.6983306459662011 381\n",
      "0.763405811439418 382\n",
      "0.7682645505055319 383\n",
      "0.7601986423183862 384\n",
      "0.6974303466013969 385\n",
      "0.7219860082367406 386\n",
      "0.7373985009062438 387\n",
      "0.727951253283823 388\n",
      "0.7431460925038615 389\n",
      "0.7691772162811942 390\n",
      "0.7268420957699311 391\n",
      "0.7604933309033007 392\n",
      "0.7127753787181192 393\n",
      "0.7611412949569842 394\n",
      "0.7382952873986013 395\n",
      "0.7706991271858809 396\n",
      "0.7776400085876503 397\n",
      "0.747614197966792 398\n",
      "0.7564533019470813 399\n",
      "0.744551305299779 400\n",
      "0.7612818060279135 401\n",
      "0.7517750206233307 402\n",
      "0.7215615732645668 403\n",
      "0.7692961189494354 404\n",
      "0.7401046958772624 405\n",
      "0.7339921237883875 406\n",
      "0.7480185534472727 407\n",
      "0.7473329915546272 408\n",
      "0.7407819060996425 409\n",
      "0.7832613773034631 410\n",
      "0.7489594658746819 411\n",
      "0.7721430907674361 412\n",
      "0.6996012379368811 413\n",
      "0.7632305979205006 414\n",
      "0.7508468999516191 415\n",
      "0.7932268149078862 416\n",
      "0.7766490936466174 417\n",
      "0.7509426051506343 418\n",
      "0.733904303456939 419\n",
      "0.7507635348382066 420\n",
      "0.7634295722977559 421\n",
      "0.7719861954979118 422\n",
      "0.7023987427077468 423\n",
      "0.7525431855641685 424\n",
      "0.7420764291168234 425\n",
      "0.7206646052171208 426\n",
      "0.7930535281754795 427\n",
      "0.738112484803548 428\n",
      "0.704483645874912 429\n",
      "0.7468105882844174 430\n",
      "0.752327053814007 431\n",
      "0.7715777089800051 432\n",
      "0.7736556591379536 433\n",
      "0.7298442029357375 434\n",
      "0.726015611259192 435\n",
      "0.7160988580375152 436\n",
      "0.6833067741898176 437\n",
      "0.7037012413416314 438\n",
      "0.7405763727456354 439\n",
      "0.7142714777104661 440\n",
      "0.7493337468346447 441\n",
      "0.763114807728584 442\n",
      "0.7118376408125506 443\n",
      "0.7908021890013187 444\n",
      "0.7425623139324492 445\n",
      "0.7247297590536546 446\n",
      "0.7383344122552686 447\n",
      "0.7464736502729569 448\n",
      "0.79439311269284 449\n",
      "0.7112271983853722 450\n",
      "0.7468917861202331 451\n",
      "0.7434562147198418 452\n",
      "0.6832310123467347 453\n",
      "0.7724235814445581 454\n",
      "0.7558276925320317 455\n",
      "0.7584433840202093 456\n",
      "0.7494425927997952 457\n",
      "0.7329346272774027 458\n",
      "0.7152495523944857 459\n",
      "0.74588654094004 460\n",
      "0.8038669474300415 461\n",
      "0.7170044440870667 462\n",
      "0.7660409442443348 463\n",
      "0.7748338222447454 464\n",
      "0.7549824484156251 465\n",
      "0.7273221804706406 466\n",
      "0.7275850810906017 467\n",
      "0.7434219473417261 468\n",
      "0.7304195214008952 469\n",
      "0.7426344482624954 470\n",
      "0.7611612575013325 471\n",
      "0.7118623364811216 472\n",
      "0.7310071823819306 473\n",
      "0.7740680813817792 474\n",
      "0.7531507301427965 475\n",
      "0.7579821390526413 476\n",
      "0.7550026584206269 477\n",
      "0.7291743002641445 478\n",
      "0.7074388766088433 479\n",
      "0.762039232117697 480\n",
      "0.7711580280085591 481\n",
      "0.7388526343916169 482\n",
      "0.7699565574452312 483\n",
      "0.7431452975066201 484\n",
      "0.7145214749350899 485\n",
      "0.775295377285083 486\n",
      "0.7465635355326006 487\n",
      "0.7058424072113355 488\n",
      "0.7591040776437243 489\n",
      "0.7649482461140871 490\n",
      "0.7131678139700042 491\n",
      "0.7566359094346854 492\n",
      "0.7645075498988292 493\n",
      "0.7407124449945177 494\n",
      "0.7830169918370815 495\n",
      "0.7461504177608398 496\n",
      "0.714638029623804 497\n",
      "0.7269621117397642 498\n",
      "0.7662467776747872 499\n",
      "0.7549930236880459 500\n",
      "0.7416986357207405 501\n",
      "0.7232860698706192 502\n",
      "0.7448859146716504 503\n",
      "0.7153890393839694 504\n",
      "0.7125313730222924 505\n",
      "0.7381769863983318 506\n",
      "0.7553588548927852 507\n",
      "0.7546061211869564 508\n",
      "0.7531131995476206 509\n",
      "0.7279807590811143 510\n",
      "0.7427456785192281 511\n",
      "0.7667347649773097 512\n",
      "0.7554013853607939 513\n",
      "0.7357342659398698 514\n",
      "0.7916835224448352 515\n",
      "0.7652882507967249 516\n",
      "0.7392358127642662 517\n",
      "0.7099923161489692 518\n",
      "0.7816606554020769 519\n",
      "0.7838457481184088 520\n",
      "0.7531266422484878 521\n",
      "0.7564965642680358 522\n",
      "0.7535733869783798 523\n",
      "0.7405753045460552 524\n",
      "0.7780605691540811 525\n",
      "0.7515176628188893 526\n",
      "0.7831707488860165 527\n",
      "0.7090426653725654 528\n",
      "0.7231010736465469 529\n",
      "0.7779901485485323 530\n",
      "0.7436915875271801 531\n",
      "0.7198683583278842 532\n",
      "0.7379116980473712 533\n",
      "0.7387190616614048 534\n",
      "0.7385400267994715 535\n",
      "0.7811499991265265 536\n",
      "0.7584146871322257 537\n",
      "0.6910288877356698 538\n",
      "0.7845938032751221 539\n",
      "0.7526128926035667 540\n",
      "0.7910645565639488 541\n",
      "0.7626049464596322 542\n",
      "0.7367492819469359 543\n",
      "0.7470959826671797 544\n",
      "0.777010629553037 545\n",
      "0.7592626586193634 546\n",
      "0.7289531619734524 547\n",
      "0.699288498675354 548\n",
      "0.7417923324532636 549\n",
      "0.7198205713121741 550\n",
      "0.7451143348980012 551\n",
      "0.7603857352320569 552\n",
      "0.7308000924753094 553\n",
      "0.7240458288932283 554\n",
      "0.7858169760892142 555\n",
      "0.7600823834242114 556\n",
      "0.7251918650232112 557\n",
      "0.7716402038968524 558\n",
      "0.7129181758974016 559\n",
      "0.6940667555781669 560\n",
      "0.7700411389085542 561\n",
      "0.7288851526659385 562\n",
      "0.7704056795247414 563\n",
      "0.7643444250297711 564\n",
      "0.7189405511873509 565\n",
      "0.7442601473651749 566\n",
      "0.6958655384638722 567\n",
      "0.798003055577083 568\n",
      "0.7550131312665862 569\n",
      "0.703870899177218 570\n",
      "0.7364257672161852 571\n",
      "0.7209932626944202 572\n",
      "0.7539985838985601 573\n",
      "0.726082115306576 574\n",
      "0.7381933441369679 575\n",
      "0.7429244295627957 576\n",
      "0.719306097253646 577\n",
      "0.718100994852116 578\n",
      "0.7095284273916607 579\n",
      "0.7748974409035693 580\n",
      "0.7435441714143288 581\n",
      "0.7799165337378415 582\n",
      "0.7780911112062839 583\n",
      "0.7490652772542188 584\n",
      "0.7140396584729285 585\n",
      "0.7813001952582697 586\n",
      "0.7702144879700816 587\n",
      "0.7394203997648766 588\n",
      "0.7495217321284291 589\n",
      "0.7640560076270615 590\n",
      "0.741943137976345 591\n",
      "0.7771604207553016 592\n",
      "0.7040086069583482 593\n",
      "0.7748805351600101 594\n",
      "0.7718041772286657 595\n",
      "0.7306179804276658 596\n",
      "0.7673452145132358 597\n",
      "0.711804848028305 598\n",
      "0.7892402999376784 599\n",
      "0.7377785220282367 600\n",
      "0.7470579679596325 601\n",
      "0.7390649387068445 602\n",
      "0.731798178900726 603\n",
      "0.7503442142029157 604\n",
      "0.7712916007720875 605\n",
      "0.7586086683167717 606\n",
      "0.7565642197503948 607\n",
      "0.7300530967108929 608\n",
      "0.7848701467972002 609\n",
      "0.7391383766221051 610\n",
      "0.7327026510892478 611\n",
      "0.7597441128635383 612\n",
      "0.7725872670972973 613\n",
      "0.6908160024987857 614\n",
      "0.7545364195046235 615\n",
      "0.7718933769928202 616\n",
      "0.7332655816544084 617\n",
      "0.7646442278577507 618\n",
      "0.7646538032633863 619\n",
      "0.7241776740815447 620\n",
      "0.7328647779432376 621\n",
      "0.7634287077601613 622\n",
      "0.7436981917061589 623\n",
      "0.7652509174414788 624\n",
      "0.7688679812974146 625\n",
      "0.7656772065327664 626\n",
      "0.7835669324556538 627\n",
      "0.7210230018025248 628\n",
      "0.7191695637313524 629\n",
      "0.6894472033884574 630\n",
      "0.7482531162610548 631\n",
      "0.7259742159097875 632\n",
      "0.7367726338430223 633\n",
      "0.703382608506542 634\n",
      "0.7494538589775406 635\n",
      "0.7348803033693173 636\n",
      "0.7237784979284823 637\n",
      "0.7656717425144275 638\n",
      "0.6997359973202579 639\n",
      "0.7509028571952904 640\n",
      "0.7465328850470494 641\n",
      "0.7509205064705121 642\n",
      "0.7638290421515797 643\n",
      "0.7880318990057147 644\n",
      "0.7660130629117999 645\n",
      "0.7319491104070317 646\n",
      "0.7441739246039462 647\n",
      "0.752826673813024 648\n",
      "0.7464580944976338 649\n",
      "0.7528090063766579 650\n",
      "0.7075080037985866 651\n",
      "0.7526462364819744 652\n",
      "0.7488125106455603 653\n",
      "0.7542074505250074 654\n",
      "0.7301566269389199 655\n",
      "0.7464188432630547 656\n",
      "0.76553230032513 657\n",
      "0.7397462108354822 658\n",
      "0.7041786832726216 659\n",
      "0.7420065216241936 660\n",
      "0.8049762343933878 661\n",
      "0.7522194952665943 662\n",
      "0.7299061093623219 663\n",
      "0.757305630553915 664\n",
      "0.7321191958633594 665\n",
      "0.7407681542956392 666\n",
      "0.6988996735022233 667\n",
      "0.7080804150951123 668\n",
      "0.7500500071304175 669\n",
      "0.7735135927746786 670\n",
      "0.7748214667616922 671\n",
      "0.7637514467994783 672\n",
      "0.7439157916714244 673\n",
      "0.7449498860555086 674\n",
      "0.7396118516445045 675\n",
      "0.7571587406636475 676\n",
      "0.7664153286929912 677\n",
      "0.7504773548107122 678\n",
      "0.7785546002967441 679\n",
      "0.6966094827184977 680\n",
      "0.7817210477623975 681\n",
      "0.712516097894766 682\n",
      "0.7551515694474594 683\n",
      "0.7881327033672647 684\n",
      "0.7220996045552408 685\n",
      "0.7523883014142768 686\n",
      "0.7068647191088624 687\n",
      "0.779908336295021 688\n",
      "0.7683994236068457 689\n",
      "0.7192509314355673 690\n",
      "0.7308571808052164 691\n",
      "0.7661285969917851 692\n",
      "0.7637553796055656 693\n",
      "0.7024941893994425 694\n",
      "0.7568076997225922 695\n",
      "0.7549322750262443 696\n",
      "0.7441685265097808 697\n",
      "0.7879346887931187 698\n",
      "0.7609127130037265 699\n",
      "0.6913653068303023 700\n",
      "0.7438934319283491 701\n",
      "0.6942846870650651 702\n",
      "0.7569558825463325 703\n",
      "0.7506920241518155 704\n",
      "0.721221855698792 705\n",
      "0.7186692664557787 706\n",
      "0.7554450721893697 707\n",
      "0.7445134859271034 708\n",
      "0.7497382427224889 709\n",
      "0.772808211144357 710\n",
      "0.7671434237128526 711\n",
      "0.7528901072123598 712\n",
      "0.7582590025861541 713\n",
      "0.7356163255626862 714\n",
      "0.7586087242753308 715\n",
      "0.7682948225764976 716\n",
      "0.7434617835606572 717\n",
      "0.742605907329258 718\n",
      "0.7491863222025583 719\n",
      "0.7408390419518864 720\n",
      "0.6959438994564124 721\n",
      "0.7286888259827602 722\n",
      "0.7775070698705864 723\n",
      "0.7463417627487261 724\n",
      "0.7222041378033638 725\n",
      "0.724605861906511 726\n",
      "0.6708563095291955 727\n",
      "0.7452691612529314 728\n",
      "0.7032462024850776 729\n",
      "0.7338192705982827 730\n",
      "0.7068376055724837 731\n",
      "0.7492560530811418 732\n",
      "0.7340258018082144 733\n",
      "0.7788399393840048 734\n",
      "0.7457937917265625 735\n",
      "0.7423897169810718 736\n",
      "0.7533244261842242 737\n",
      "0.7782738078157162 738\n",
      "0.7533523360137521 739\n",
      "0.7375820079613168 740\n",
      "0.7147867726505959 741\n",
      "0.7598683771218646 742\n",
      "0.7415354688574447 743\n",
      "0.7415536386349416 744\n",
      "0.7563037681450757 745\n",
      "0.7563217162192413 746\n",
      "0.7300965654625129 747\n",
      "0.7207505651048618 748\n",
      "0.7203729974718585 749\n",
      "0.7618369961737552 750\n",
      "0.6894677054252861 751\n",
      "0.6717161985199321 752\n",
      "0.7445673006642515 753\n",
      "0.7767256542277649 754\n",
      "0.7653943435584932 755\n",
      "0.7536491840181607 756\n",
      "0.7096331900260253 757\n",
      "0.7338117809777958 758\n",
      "0.7514429198247297 759\n",
      "0.7080877023882637 760\n",
      "0.7891007233238244 761\n",
      "0.7642086374790725 762\n",
      "0.7045520984411267 763\n",
      "0.7387601406552884 764\n",
      "0.7596066428831123 765\n"
     ]
    },
    {
     "name": "stdout",
     "output_type": "stream",
     "text": [
      "0.7174547170835346 766\n",
      "0.7022656043871333 767\n",
      "0.7503529224054691 768\n",
      "0.7625524805308631 769\n",
      "0.7549401582894051 770\n",
      "0.6989587137505747 771\n",
      "0.7379549827776327 772\n",
      "0.741078146234025 773\n",
      "0.7374220513233348 774\n",
      "0.7838023879267012 775\n",
      "0.7129475187431313 776\n",
      "0.7278219148208038 777\n",
      "0.7438146091106951 778\n",
      "0.7676188255612355 779\n",
      "0.7477795553455946 780\n",
      "0.7163127514453866 781\n",
      "0.7422984712917522 782\n",
      "0.774877459697722 783\n",
      "0.7512009897592329 784\n",
      "0.7451153276627858 785\n",
      "0.7943604840287337 786\n",
      "0.7377853464006721 787\n",
      "0.7483682709719018 788\n",
      "0.7239882364639737 789\n",
      "0.7092597062919876 790\n",
      "0.7720803670957732 791\n",
      "0.7627607166086222 792\n",
      "0.7503642889839011 793\n",
      "0.7619385899257654 794\n",
      "0.7657222256332881 795\n",
      "0.7516149875598581 796\n",
      "0.6772808358428352 797\n",
      "0.7502302606590445 798\n",
      "0.7074963056151935 799\n",
      "0.738008720910273 800\n",
      "0.7453981683376474 801\n",
      "0.744647236573651 802\n",
      "0.7500885738571256 803\n",
      "0.7478407713591015 804\n",
      "0.7565434468198333 805\n",
      "0.7190275346431361 806\n",
      "0.7771959067431746 807\n",
      "0.730094969273546 808\n",
      "0.7754194088009226 809\n",
      "0.7512558800527884 810\n",
      "0.7449776315776537 811\n",
      "0.7413215324581146 812\n",
      "0.721073006215897 813\n",
      "0.7769668425987138 814\n",
      "0.7208069666806795 815\n",
      "0.7091237282227784 816\n",
      "0.7292398169200076 817\n",
      "0.7172869778127429 818\n",
      "0.7698059495768695 819\n",
      "0.7778166147926033 820\n",
      "0.7720097082838763 821\n",
      "0.7533565955595173 822\n",
      "0.7911064092072684 823\n",
      "0.736928199578486 824\n",
      "0.7721437710418644 825\n",
      "0.7490884304060227 826\n",
      "0.7620543631790269 827\n",
      "0.762771984025227 828\n",
      "0.7252276898167483 829\n",
      "0.7452148990262952 830\n",
      "0.7646687640583438 831\n",
      "0.7469410228424305 832\n",
      "0.7651456752008936 833\n",
      "0.7573261701092183 834\n",
      "0.7311358239608887 835\n",
      "0.7765787924998959 836\n",
      "0.774268042019253 837\n",
      "0.769729371350762 838\n",
      "0.7744350729699258 839\n",
      "0.703114596703551 840\n",
      "0.7432485002657963 841\n",
      "0.7646708288001813 842\n",
      "0.6932838852272056 843\n",
      "0.7533979293417101 844\n",
      "0.7483928469524133 845\n",
      "0.746690512883684 846\n",
      "0.7412118085012627 847\n",
      "0.6880603284840134 848\n",
      "0.7538488335806908 849\n",
      "0.7230009918495957 850\n",
      "0.7074811719695011 851\n",
      "0.7957178848091165 852\n",
      "0.7482488638786253 853\n",
      "0.7517063033206843 854\n",
      "0.745527855067535 855\n",
      "0.7676734800401286 856\n",
      "0.6919156153452253 857\n",
      "0.7461096767904911 858\n",
      "0.713815372501051 859\n",
      "0.7281752919244415 860\n",
      "0.7515540386866073 861\n",
      "0.7521625706686237 862\n",
      "0.7105589155172785 863\n",
      "0.7618527402187901 864\n",
      "0.7729525541509841 865\n",
      "0.7275509034882421 866\n",
      "0.7633218913949198 867\n",
      "0.782890735195627 868\n",
      "0.7533193145945407 869\n",
      "0.7297323660064466 870\n",
      "0.7315447162095761 871\n",
      "0.7576175582212793 872\n",
      "0.692353913835007 873\n",
      "0.7534107442263812 874\n",
      "0.7063422596191957 875\n",
      "0.7679363254587467 876\n",
      "0.7718494926022674 877\n",
      "0.7391593326472512 878\n",
      "0.6825343535313784 879\n",
      "0.7576586497040069 880\n",
      "0.7847302343836139 881\n",
      "0.7514227419661987 882\n",
      "0.76160686956663 883\n",
      "0.7296957543229864 884\n",
      "0.7402349360003343 885\n",
      "0.7026127991272142 886\n",
      "0.709815567841372 887\n",
      "0.6235833914192845 888\n",
      "0.7454012923714062 889\n",
      "0.7520477481926363 890\n",
      "0.6958126661239431 891\n",
      "0.7671295704728183 892\n",
      "0.7257283829009926 893\n",
      "0.7615546195872873 894\n",
      "0.7281228262457473 895\n",
      "0.7428444839924369 896\n",
      "0.728925009072214 897\n",
      "0.7465352949721925 898\n",
      "0.7546316871748686 899\n",
      "0.7136314289188518 900\n",
      "0.7219138397899068 901\n",
      "0.763794407410721 902\n",
      "0.7622376425191953 903\n",
      "0.7512992587363643 904\n",
      "0.7440319503323194 905\n",
      "0.7451750712334326 906\n",
      "0.7743862522266006 907\n",
      "0.7555458751328484 908\n",
      "0.7467907683847359 909\n",
      "0.7006365740207117 910\n",
      "0.7701368884318982 911\n",
      "0.7436136904688463 912\n",
      "0.7682207122191715 913\n",
      "0.7414751156570449 914\n",
      "0.7391380335156162 915\n",
      "0.7418121146297513 916\n",
      "0.7811245500781984 917\n",
      "0.7407883245789806 918\n",
      "0.725635261326331 919\n",
      "0.7792087298336425 920\n",
      "0.7131113629010647 921\n",
      "0.7350072961402234 922\n",
      "0.7043158859490168 923\n",
      "0.7433743760855012 924\n",
      "0.7362511837781456 925\n",
      "0.7804149041747378 926\n",
      "0.7080010797877607 927\n",
      "0.73087924085108 928\n",
      "0.7425482870719815 929\n",
      "0.7251081512121234 930\n",
      "0.7590382133028304 931\n",
      "0.7297381363036863 932\n",
      "0.7552237948731028 933\n",
      "0.7490317825228495 934\n",
      "0.7527881190815844 935\n",
      "0.7050279422423986 936\n",
      "0.7622596393420927 937\n",
      "0.7414830878395361 938\n",
      "0.7172841148472251 939\n",
      "0.7662338936489503 940\n",
      "0.7331670760458839 941\n",
      "0.7312899296061308 942\n",
      "0.7925098121310917 943\n",
      "0.7836460494117413 944\n",
      "0.7638476448384987 945\n",
      "0.7287698605821826 946\n",
      "0.7387188771708229 947\n",
      "0.7388293465498266 948\n",
      "0.7495934742519088 949\n",
      "0.7446536858863942 950\n",
      "0.7234388712675778 951\n",
      "0.7611998426310407 952\n",
      "0.7496861655074282 953\n",
      "0.7553313717701094 954\n",
      "0.7566004461595284 955\n",
      "0.7920794881364047 956\n",
      "0.7657639100362047 957\n",
      "0.7542651506889396 958\n",
      "0.746544041386046 959\n",
      "0.7453300056824794 960\n",
      "0.7918485179526809 961\n",
      "0.7483849792337829 962\n",
      "0.7306032724084826 963\n",
      "0.740990326804394 964\n",
      "0.7560092269463936 965\n",
      "0.736272761394144 966\n",
      "0.7238077471180759 967\n",
      "0.7073004896622237 968\n",
      "0.7519227164049606 969\n",
      "0.729984279561483 970\n",
      "0.7488989947839222 971\n",
      "0.7488775513661081 972\n",
      "0.7814483542229742 973\n",
      "0.7285064949419735 974\n",
      "0.7709976535172753 975\n",
      "0.7364182719015425 976\n",
      "0.7535038458989916 977\n",
      "0.7496660539696056 978\n",
      "0.7164748378432934 979\n",
      "0.731133256963625 980\n",
      "0.7378078879925434 981\n",
      "0.7502896943247321 982\n",
      "0.7617372506438441 983\n",
      "0.7527996928059589 984\n",
      "0.7235693874819229 985\n",
      "0.7706060589687977 986\n",
      "0.7330550258846669 987\n",
      "0.764291421457912 988\n",
      "0.7337656666413682 989\n",
      "0.7596380477004347 990\n",
      "0.7369753497952968 991\n",
      "0.7487970417184422 992\n",
      "0.7436826078727092 993\n",
      "0.7534550271362139 994\n",
      "0.7501441813075785 995\n",
      "0.710450228654375 996\n",
      "0.7813457032786568 997\n",
      "0.7296663864935014 998\n",
      "0.7568073867951506 999\n"
     ]
    }
   ],
   "source": [
    "scores=[]\n",
    "for i in range(1000):\n",
    "    X_train,X_test,y_train,y_test=train_test_split(X,y,test_size=0.3,random_state=i)\n",
    "    lr=LinearRegression()\n",
    "    lr.fit(X_train,y_train)\n",
    "    pred=lr.predict(X_test)\n",
    "    print(metrics.r2_score(y_test,pred),i)\n",
    "    scores.append(metrics.r2_score(y_test,pred))\n",
    "    "
   ]
  },
  {
   "cell_type": "code",
   "execution_count": 81,
   "id": "2fcf52fb",
   "metadata": {},
   "outputs": [
    {
     "data": {
      "text/plain": [
       "661"
      ]
     },
     "execution_count": 81,
     "metadata": {},
     "output_type": "execute_result"
    }
   ],
   "source": [
    "#finding random state value which gives max r2 score\n",
    "np.argmax(scores)\n"
   ]
  },
  {
   "cell_type": "code",
   "execution_count": 82,
   "id": "b676213b",
   "metadata": {},
   "outputs": [
    {
     "name": "stdout",
     "output_type": "stream",
     "text": [
      "maximum r2 score  0.8049762343933878\n"
     ]
    }
   ],
   "source": [
    "print('maximum r2 score ',scores[np.argmax(scores)])"
   ]
  },
  {
   "cell_type": "code",
   "execution_count": 83,
   "id": "599524ee",
   "metadata": {},
   "outputs": [
    {
     "data": {
      "text/plain": [
       "LinearRegression()"
      ]
     },
     "execution_count": 83,
     "metadata": {},
     "output_type": "execute_result"
    }
   ],
   "source": [
    "X_train, X_test, y_train, y_test = train_test_split(X, y, test_size=0.2, random_state=661)\n",
    "model=LinearRegression()\n",
    "model.fit(X_train, y_train)\n"
   ]
  },
  {
   "cell_type": "code",
   "execution_count": 84,
   "id": "83a93bf0",
   "metadata": {},
   "outputs": [],
   "source": [
    "y_pred=model.predict(X_test)"
   ]
  },
  {
   "cell_type": "code",
   "execution_count": 85,
   "id": "631d9f22",
   "metadata": {},
   "outputs": [
    {
     "data": {
      "image/png": "[encoded data removed]",
      "text/plain": [
       "<Figure size 432x288 with 1 Axes>"
      ]
     },
     "metadata": {
      "needs_background": "light"
     },
     "output_type": "display_data"
    }
   ],
   "source": [
    "plt.scatter(y_test,y_pred)\n",
    "plt.xlabel('Y test')\n",
    "plt.ylabel('Y pred')\n",
    "plt.show()\n"
   ]
  },
  {
   "cell_type": "code",
   "execution_count": 86,
   "id": "dc9c5a0e",
   "metadata": {},
   "outputs": [],
   "source": [
    "import pickle\n",
    "pickle.dump(model,open('insurance.pkl','wb'))"
   ]
  },
  {
   "cell_type": "code",
   "execution_count": 87,
   "id": "6cda372e",
   "metadata": {},
   "outputs": [
    {
     "name": "stdout",
     "output_type": "stream",
     "text": [
      "MAE: 11986.754382007355\n",
      "MSE: 273265152.762688\n",
      "RMSE: 16530.733582109657\n"
     ]
    }
   ],
   "source": [
    "from sklearn import metrics\n",
    "from math import sqrt\n",
    "print('MAE:',metrics.mean_absolute_error(y_test,predictions))\n",
    "print('MSE:',metrics.mean_squared_error(y_test,predictions))\n",
    "print('RMSE:',np.sqrt(metrics.mean_squared_error(y_test, predictions)))"
   ]
  },
  {
   "cell_type": "code",
   "execution_count": null,
   "id": "d1fef0e9",
   "metadata": {},
   "outputs": [],
   "source": []
  }
 ],
 "metadata": {
  "kernelspec": {
   "display_name": "Python 3 (ipykernel)",
   "language": "python",
   "name": "python3"
  },
  "language_info": {
   "codemirror_mode": {
    "name": "ipython",
    "version": 3
   },
   "file_extension": ".py",
   "mimetype": "text/x-python",
   "name": "python",
   "nbconvert_exporter": "python",
   "pygments_lexer": "ipython3",
   "version": "3.9.12"
  }
 },
 "nbformat": 4,
 "nbformat_minor": 5
}
